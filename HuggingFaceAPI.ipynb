{
 "cells": [
  {
   "cell_type": "markdown",
   "metadata": {},
   "source": [
    "## Demo"
   ]
  },
  {
   "cell_type": "code",
   "execution_count": 1,
   "metadata": {},
   "outputs": [],
   "source": [
    "import json\n",
    "import requests"
   ]
  },
  {
   "cell_type": "code",
   "execution_count": 2,
   "metadata": {},
   "outputs": [],
   "source": [
    "API_TOKEN = \"api_xxxxxxxxxxxxxxxxxxxx\" # get yours at hf.co/settings/token\n",
    "API_MODELS_URL = f\"https://api-inference.huggingface.co/models/\"\n",
    "headers = {\"Authorization\": f\"Bearer {API_TOKEN}\"}"
   ]
  },
  {
   "cell_type": "markdown",
   "metadata": {},
   "source": [
    "## Text Generation"
   ]
  },
  {
   "cell_type": "code",
   "execution_count": 3,
   "metadata": {},
   "outputs": [],
   "source": [
    "def query(data, model_id):\n",
    "    API_URL = API_MODELS_URL + model_id\n",
    "    data = json.dumps(data)\n",
    "    response = requests.request(\"POST\", API_URL, headers=headers, data=data)\n",
    "    return json.loads(response.content.decode(\"utf-8\"))"
   ]
  },
  {
   "cell_type": "code",
   "execution_count": null,
   "metadata": {},
   "outputs": [],
   "source": []
  },
  {
   "cell_type": "code",
   "execution_count": 4,
   "metadata": {},
   "outputs": [],
   "source": [
    "data = {\"inputs\": \"I spent my vacation exploring natural language processing (NLP)\", \"parameters\": {\"max_new_tokens\": 160}}"
   ]
  },
  {
   "cell_type": "code",
   "execution_count": 5,
   "metadata": {},
   "outputs": [
    {
     "name": "stdout",
     "output_type": "stream",
     "text": [
      "[{'generated_text': 'I spent my vacation exploring natural language processing (NLP) with the help of a number of the best developers in the world.\\n\\nDuring this vacation, I have had the pleasure to explore many interesting places such as, machine learning, deep learning, data science, AI, TensorFlow, Google Cloud, deep neural networks, TensorFlow, Google Cloud, TensorFlow, Google Cloud.\\n\\nI also visited many places that were part of AI conferences in 2018 and I was lucky to get to visit AI related workshops and I got to see the best ideas, ideas of NLP, but my greatest pleasure was when I met several people that are working on NLP and how they went about it.\\n\\nSo, stay tuned with me during the next few weeks when I will be sharing the best of NLP in 2018.\\n\\n'}]\n"
     ]
    }
   ],
   "source": [
    "data = query(data, \"EleutherAI/gpt-neo-1.3B\")\n",
    "print(data)"
   ]
  },
  {
   "cell_type": "markdown",
   "metadata": {},
   "source": [
    "Raise temperature"
   ]
  },
  {
   "cell_type": "code",
   "execution_count": 6,
   "metadata": {},
   "outputs": [],
   "source": [
    "data = {\n",
    "    \"inputs\": \"I spent my vacation exploring natural language processing (NLP)\",\n",
    "    \"parameters\": {\"max_new_tokens\": 160, \"temperature\": 10.0}\n",
    "}"
   ]
  },
  {
   "cell_type": "code",
   "execution_count": 7,
   "metadata": {},
   "outputs": [
    {
     "name": "stdout",
     "output_type": "stream",
     "text": [
      "[{'generated_text': 'I spent my vacation exploring natural language processing (NLP) and natural deduction in Theorem Proxym 3 hours before finally finishing our assignment \\u2004 and today would come as most great feeling from all of I spent. Now one part my friend came with that when my project today should not wait only me for another six part of working of tomorrow afternoon I am planning then can go, that which you see what there so right when can not miss one last working place or we may need the work until some the work ends that there so no you will work is always very happy that do to which he may like a change and after each working. For another my my brother has sent many emails after of when now will see and his in which today, how long of one last or just a very close thing this may. \\u2005 Finally this article just if after'}]\n"
     ]
    }
   ],
   "source": [
    "data = query(data, \"EleutherAI/gpt-neo-1.3B\")\n",
    "print(data)"
   ]
  },
  {
   "cell_type": "code",
   "execution_count": 8,
   "metadata": {},
   "outputs": [],
   "source": [
    "data = {\n",
    "    \"inputs\": \"I spent my vacation exploring natural language processing (NLP)\",\n",
    "    \"parameters\": {\"max_new_tokens\": 160, \"temperature\": 100.0}\n",
    "}"
   ]
  },
  {
   "cell_type": "code",
   "execution_count": 9,
   "metadata": {},
   "outputs": [
    {
     "name": "stdout",
     "output_type": "stream",
     "text": [
      "[{'generated_text': 'I spent my vacation exploring natural language processing (NLP) frameworks under both JRE/XN \\t4+3 versions under linux amd in order ot give back better understanding it can create NNP systems of natural interfaces etc., using some common terms that all our readers uses the basic building units are using now to know we start now this N-th stage, to give the ability where more detailed concepts for your applications to know now to use to improve what use that natural expressions? If to think on why more people have decided from experience that more the latest framework/interface could produce an idea at present or maybe it might you‣? Let now, have those thoughts which why, which is it better in both use? We understand you a language of any the reason better for me also know but have more reasons at how the technology we need further'}]\n"
     ]
    }
   ],
   "source": [
    "data = query(data, \"EleutherAI/gpt-neo-1.3B\")\n",
    "print(data)"
   ]
  },
  {
   "cell_type": "code",
   "execution_count": null,
   "metadata": {},
   "outputs": [],
   "source": []
  }
 ],
 "metadata": {
  "kernelspec": {
   "display_name": "Python 3",
   "language": "python",
   "name": "python3"
  },
  "language_info": {
   "codemirror_mode": {
    "name": "ipython",
    "version": 3
   },
   "file_extension": ".py",
   "mimetype": "text/x-python",
   "name": "python",
   "nbconvert_exporter": "python",
   "pygments_lexer": "ipython3",
   "version": "3.8.5"
  }
 },
 "nbformat": 4,
 "nbformat_minor": 4
}
