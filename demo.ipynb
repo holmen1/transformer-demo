{
 "cells": [
  {
   "cell_type": "code",
   "execution_count": 1,
   "metadata": {},
   "outputs": [],
   "source": [
    "from transformers import pipeline"
   ]
  },
  {
   "cell_type": "code",
   "execution_count": 2,
   "metadata": {},
   "outputs": [],
   "source": [
    "classifier = pipeline('sentiment-analysis')"
   ]
  },
  {
   "cell_type": "code",
   "execution_count": 3,
   "metadata": {},
   "outputs": [
    {
     "data": {
      "text/plain": [
       "[{'label': 'POSITIVE', 'score': 0.9997795224189758}]"
      ]
     },
     "execution_count": 3,
     "metadata": {},
     "output_type": "execute_result"
    }
   ],
   "source": [
    "classifier('We are very happy to show you the 🤗 Transformers library.')"
   ]
  },
  {
   "cell_type": "markdown",
   "metadata": {},
   "source": [
    "## Text summarization"
   ]
  },
  {
   "cell_type": "code",
   "execution_count": 4,
   "metadata": {},
   "outputs": [],
   "source": [
    "summarizer = pipeline(\"summarization\")"
   ]
  },
  {
   "cell_type": "code",
   "execution_count": 5,
   "metadata": {},
   "outputs": [],
   "source": [
    "ARTICLE = \"\"\" New York (CNN)When Liana Barrientos was 23 years old, she got married in Westchester County, New York.\n",
    "A year later, she got married again in Westchester County, but to a different man and without divorcing her first husband.\n",
    "Only 18 days after that marriage, she got hitched yet again. Then, Barrientos declared \"I do\" five more times, sometimes only within two weeks of each other.\n",
    "In 2010, she married once more, this time in the Bronx. In an application for a marriage license, she stated it was her \"first and only\" marriage.\n",
    "Barrientos, now 39, is facing two criminal counts of \"offering a false instrument for filing in the first degree,\" referring to her false statements on the\n",
    "2010 marriage license application, according to court documents.\n",
    "Prosecutors said the marriages were part of an immigration scam.\n",
    "On Friday, she pleaded not guilty at State Supreme Court in the Bronx, according to her attorney, Christopher Wright, who declined to comment further.\n",
    "After leaving court, Barrientos was arrested and charged with theft of service and criminal trespass for allegedly sneaking into the New York subway through an emergency exit, said Detective\n",
    "Annette Markowski, a police spokeswoman. In total, Barrientos has been married 10 times, with nine of her marriages occurring between 1999 and 2002.\n",
    "All occurred either in Westchester County, Long Island, New Jersey or the Bronx. She is believed to still be married to four men, and at one time, she was married to eight men at once, prosecutors say.\n",
    "Prosecutors said the immigration scam involved some of her husbands, who filed for permanent residence status shortly after the marriages.\n",
    "Any divorces happened only after such filings were approved. It was unclear whether any of the men will be prosecuted.\n",
    "The case was referred to the Bronx District Attorney\\'s Office by Immigration and Customs Enforcement and the Department of Homeland Security\\'s\n",
    "Investigation Division. Seven of the men are from so-called \"red-flagged\" countries, including Egypt, Turkey, Georgia, Pakistan and Mali.\n",
    "Her eighth husband, Rashid Rajput, was deported in 2006 to his native Pakistan after an investigation by the Joint Terrorism Task Force.\n",
    "If convicted, Barrientos faces up to four years in prison.  Her next court appearance is scheduled for May 18.\n",
    "\"\"\""
   ]
  },
  {
   "cell_type": "code",
   "execution_count": 6,
   "metadata": {},
   "outputs": [
    {
     "name": "stdout",
     "output_type": "stream",
     "text": [
      "[{'summary_text': ' Liana Barrientos, 39, is charged with two counts of \"offering a false instrument for filing in the first degree\" In total, she has been married 10 times, with nine of her marriages occurring between 1999 and 2002 . At one time, she was married to eight men at once, prosecutors say .'}]\n"
     ]
    }
   ],
   "source": [
    "print(summarizer(ARTICLE, max_length=130, min_length=30, do_sample=False))"
   ]
  },
  {
   "cell_type": "markdown",
   "metadata": {},
   "source": [
    "## T5"
   ]
  },
  {
   "cell_type": "code",
   "execution_count": 7,
   "metadata": {},
   "outputs": [
    {
     "name": "stderr",
     "output_type": "stream",
     "text": [
      "Some weights of T5ForConditionalGeneration were not initialized from the model checkpoint at t5-base and are newly initialized: ['encoder.embed_tokens.weight', 'decoder.embed_tokens.weight', 'lm_head.weight']\n",
      "You should probably TRAIN this model on a down-stream task to be able to use it for predictions and inference.\n"
     ]
    }
   ],
   "source": [
    "from transformers import AutoModelForSeq2SeqLM, AutoTokenizer\n",
    "\n",
    "model = AutoModelForSeq2SeqLM.from_pretrained(\"t5-base\")\n",
    "tokenizer = AutoTokenizer.from_pretrained(\"t5-base\")\n",
    "\n",
    "# T5 uses a max_length of 512 so we cut the article to 512 tokens.\n",
    "inputs = tokenizer.encode(\"summarize: \" + ARTICLE, return_tensors=\"pt\", max_length=512, truncation=True)\n",
    "outputs = model.generate(inputs, max_length=150, min_length=40, length_penalty=2.0, num_beams=4, early_stopping=True)"
   ]
  },
  {
   "cell_type": "code",
   "execution_count": 8,
   "metadata": {},
   "outputs": [
    {
     "name": "stdout",
     "output_type": "stream",
     "text": [
      "in total, barrientos has been married 10 times, with nine of her marriages occurring between 1999 and 2002. she is believed to still be married to four men, and at one time, she married eight men at once.\n"
     ]
    }
   ],
   "source": [
    "print(tokenizer.decode(outputs[0]))"
   ]
  },
  {
   "cell_type": "markdown",
   "metadata": {},
   "source": [
    "## Bart"
   ]
  },
  {
   "cell_type": "code",
   "execution_count": 9,
   "metadata": {},
   "outputs": [],
   "source": [
    "from transformers import BartForConditionalGeneration, BartTokenizer"
   ]
  },
  {
   "cell_type": "code",
   "execution_count": 10,
   "metadata": {},
   "outputs": [
    {
     "name": "stderr",
     "output_type": "stream",
     "text": [
      "Some weights of BartForConditionalGeneration were not initialized from the model checkpoint at facebook/bart-large and are newly initialized: ['final_logits_bias']\n",
      "You should probably TRAIN this model on a down-stream task to be able to use it for predictions and inference.\n",
      "Truncation was not explicitely activated but `max_length` is provided a specific value, please use `truncation=True` to explicitely truncate examples to max length. Defaulting to 'longest_first' truncation strategy. If you encode pairs of sequences (GLUE-style) with the tokenizer you can select this strategy more precisely by providing a specific strategy to `truncation`.\n"
     ]
    },
    {
     "name": "stdout",
     "output_type": "stream",
     "text": [
      "['Prosecutors said the marriages were part of an immigration scam. New York (CNN)When Liana Barrientos was 23 years old, she got married in Westchester County, New York. In an application for a marriage license, she stated it was her \"first and only\" marriage.Only 18 days after that marriage, her first husband was killed in a car accident, and she married again, this time in the Bronx, prosecutors said. Then, she married five more times, sometimes only within two weeks of each other. In total, Barorientos has been married 10 times, with nine of her marriages occurring between 1999 and 2002. She is believed to still be married to four men, and at one time,']\n"
     ]
    }
   ],
   "source": [
    "bartmodel = BartForConditionalGeneration.from_pretrained('facebook/bart-large')\n",
    "barttokenizer = BartTokenizer.from_pretrained('facebook/bart-large')\n",
    "\n",
    "inputs = barttokenizer([ARTICLE], max_length=1024, return_tensors='pt')\n",
    "\n",
    "# Generate Summary\n",
    "summary_ids = bartmodel.generate(inputs['input_ids'], num_beams=4, max_length=150, early_stopping=True)\n",
    "print([barttokenizer.decode(g, skip_special_tokens=True, clean_up_tokenization_spaces=False) for g in summary_ids])"
   ]
  },
  {
   "cell_type": "code",
   "execution_count": 11,
   "metadata": {},
   "outputs": [
    {
     "data": {
      "text/plain": [
       "tensor([[    0,    16,   792,     6,  1207,  3483,   235,     7,    65,   118,\n",
       "          4464,   335,   648,     6,    28,  4169,    13,   160,  5281,     7,\n",
       "         16198,   344,  5247,    11,  4407,     3,     5,   255,    19,  6141,\n",
       "            12,   341,    36,  4464,    12,   662,  1076,     6,    11,    44,\n",
       "            80,    97,     6,   255,  4464,  2641,  1076,    44,   728,     3,\n",
       "             5]])"
      ]
     },
     "execution_count": 11,
     "metadata": {},
     "output_type": "execute_result"
    }
   ],
   "source": [
    "outputs"
   ]
  },
  {
   "cell_type": "code",
   "execution_count": null,
   "metadata": {},
   "outputs": [],
   "source": []
  },
  {
   "cell_type": "code",
   "execution_count": 8,
   "metadata": {},
   "outputs": [
    {
     "name": "stdout",
     "output_type": "stream",
     "text": [
      "absl-py==0.9.0\r\n",
      "alabaster==0.7.12\r\n",
      "anaconda-client==1.7.2\r\n",
      "anaconda-navigator==1.9.12\r\n",
      "anaconda-project==0.8.3\r\n",
      "applaunchservices==0.2.1\r\n",
      "appnope==0.1.0\r\n",
      "appscript==1.0.1\r\n",
      "argh==0.26.2\r\n",
      "asgiref==3.2.7\r\n",
      "asn1crypto==1.3.0\r\n",
      "astroid==2.4.0\r\n",
      "astropy==4.0.1.post1\r\n",
      "astunparse==1.6.3\r\n",
      "atomicwrites==1.4.0\r\n",
      "attrs==19.3.0\r\n",
      "autopep8==1.4.4\r\n",
      "azure-functions==1.2.1\r\n",
      "Babel==2.8.0\r\n",
      "backcall==0.1.0\r\n",
      "backports.functools-lru-cache==1.6.1\r\n",
      "backports.shutil-get-terminal-size==1.0.0\r\n",
      "backports.tempfile==1.0\r\n",
      "backports.weakref==1.0.post1\r\n",
      "beautifulsoup4==4.9.0\r\n",
      "bitarray==1.2.1\r\n",
      "bkcharts==0.2\r\n",
      "bleach==3.1.4\r\n",
      "bokeh==2.0.2\r\n",
      "boto==2.49.0\r\n",
      "Bottleneck==1.3.2\r\n",
      "bz2file==0.98\r\n",
      "cachetools==4.1.1\r\n",
      "certifi==2021.5.30\r\n",
      "cffi==1.14.0\r\n",
      "chainer==7.7.0\r\n",
      "chainladder==0.7.9\r\n",
      "chardet==3.0.4\r\n",
      "click==7.1.2\r\n",
      "cloudpickle==1.3.0\r\n",
      "clyent==1.2.2\r\n",
      "colorama==0.4.3\r\n",
      "conda==4.10.3\r\n",
      "conda-build==3.18.11\r\n",
      "conda-package-handling==1.7.0\r\n",
      "conda-verify==3.4.2\r\n",
      "contextlib2==0.6.0.post1\r\n",
      "cryptography==2.9.2\r\n",
      "cvxopt==1.2.3\r\n",
      "cycler==0.10.0\r\n",
      "Cython==0.29.17\r\n",
      "cytoolz==0.10.1\r\n",
      "dask==2.16.0\r\n",
      "decorator==4.4.2\r\n",
      "defusedxml==0.6.0\r\n",
      "diff-match-patch==20181111\r\n",
      "dill==0.3.1.1\r\n",
      "distributed==2.16.0\r\n",
      "Django==3.0.3\r\n",
      "dlx==1.0.4\r\n",
      "dm-tree==0.1.5\r\n",
      "docloud==1.0.375\r\n",
      "docplex==2.12.182\r\n",
      "docutils==0.16\r\n",
      "dopamine-rl==3.1.3\r\n",
      "entrypoints==0.3\r\n",
      "et-xmlfile==1.0.1\r\n",
      "fastapi==0.63.0\r\n",
      "fastcache==1.1.0\r\n",
      "fastdtw==0.3.4\r\n",
      "filelock==3.0.12\r\n",
      "flake8==3.7.9\r\n",
      "Flask==1.1.2\r\n",
      "flax==0.2.0\r\n",
      "fsspec==0.7.1\r\n",
      "funcsigs==1.0.2\r\n",
      "future==0.18.2\r\n",
      "gast==0.3.3\r\n",
      "gevent==1.4.0\r\n",
      "gin-config==0.3.0\r\n",
      "glob2==0.7\r\n",
      "gmpy2==2.0.8\r\n",
      "google-api-core==1.22.0\r\n",
      "google-api-python-client==1.10.0\r\n",
      "google-auth==1.20.0\r\n",
      "google-auth-httplib2==0.0.4\r\n",
      "google-auth-oauthlib==0.4.1\r\n",
      "google-pasta==0.2.0\r\n",
      "googleapis-common-protos==1.52.0\r\n",
      "greenlet==0.4.15\r\n",
      "grpcio==1.30.0\r\n",
      "gunicorn==20.0.4\r\n",
      "gym==0.17.2\r\n",
      "h11==0.12.0\r\n",
      "h5py==2.10.0\r\n",
      "HeapDict==1.0.1\r\n",
      "html5lib==1.0.1\r\n",
      "httpie==2.1.0\r\n",
      "httplib2==0.18.1\r\n",
      "httptools==0.1.1\r\n",
      "hypothesis==5.11.0\r\n",
      "idna==2.9\r\n",
      "imageio==2.8.0\r\n",
      "imagesize==1.2.0\r\n",
      "importlib-metadata==1.5.0\r\n",
      "importlib-resources==3.0.0\r\n",
      "inflection==0.3.1\r\n",
      "intervaltree==3.0.2\r\n",
      "ipykernel==5.1.4\r\n",
      "ipython==7.13.0\r\n",
      "ipython-genutils==0.2.0\r\n",
      "ipywidgets==7.5.1\r\n",
      "isort==4.3.21\r\n",
      "itsdangerous==1.1.0\r\n",
      "jax==0.1.75\r\n",
      "jaxlib==0.1.52\r\n",
      "jdcal==1.4.1\r\n",
      "jedi==0.15.2\r\n",
      "Jinja2==2.11.2\r\n",
      "joblib==0.14.1\r\n",
      "json5==0.9.4\r\n",
      "jsonschema==3.2.0\r\n",
      "jupyter==1.0.0\r\n",
      "jupyter-client==6.1.3\r\n",
      "jupyter-console==6.1.0\r\n",
      "jupyter-core==4.6.3\r\n",
      "jupyterlab==1.2.6\r\n",
      "jupyterlab-server==1.1.1\r\n",
      "Keras-Preprocessing==1.1.2\r\n",
      "keyring==21.1.1\r\n",
      "kfac==0.2.0\r\n",
      "kiwisolver==1.2.0\r\n",
      "lazy-object-proxy==1.4.3\r\n",
      "libarchive-c==2.9\r\n",
      "llvmlite==0.32.0\r\n",
      "locket==0.2.0\r\n",
      "lxml==4.5.0\r\n",
      "Markdown==3.2.2\r\n",
      "MarkupSafe==1.1.1\r\n",
      "marshmallow==3.3.0\r\n",
      "marshmallow-polyfield==5.7\r\n",
      "matplotlib==3.1.3\r\n",
      "mccabe==0.6.1\r\n",
      "mesh-tensorflow==0.1.16\r\n",
      "mistune==0.8.4\r\n",
      "mkl-fft==1.0.15\r\n",
      "mkl-random==1.1.0\r\n",
      "mkl-service==2.3.0\r\n",
      "mock==4.0.2\r\n",
      "more-itertools==8.2.0\r\n",
      "mpmath==1.1.0\r\n",
      "msgpack==1.0.0\r\n",
      "multipledispatch==0.6.0\r\n",
      "navigator-updater==0.2.1\r\n",
      "nbconvert==5.6.1\r\n",
      "nbformat==5.0.6\r\n",
      "ndg-httpsclient==0.5.1\r\n",
      "nest-asyncio==1.2.1\r\n",
      "networkx==2.4\r\n",
      "nltk==3.5\r\n",
      "nose==1.3.7\r\n",
      "notebook==6.0.3\r\n",
      "ntlm-auth==1.4.0\r\n",
      "numba==0.49.0\r\n",
      "numexpr==2.7.1\r\n",
      "numpy==1.18.4\r\n",
      "numpydoc==0.9.2\r\n",
      "oauth2client==4.1.3\r\n",
      "oauthlib==3.1.0\r\n",
      "olefile==0.46\r\n",
      "opencv-python==4.3.0.36\r\n",
      "openpyxl==3.0.3\r\n",
      "opt-einsum==3.3.0\r\n",
      "packaging==20.3\r\n",
      "pandas==1.0.4\r\n",
      "pandocfilters==1.4.2\r\n",
      "parso==0.5.2\r\n",
      "partd==1.1.0\r\n",
      "path==13.1.0\r\n",
      "pathlib2==2.3.5\r\n",
      "pathtools==0.1.2\r\n",
      "patsy==0.5.1\r\n",
      "pep8==1.7.1\r\n",
      "pexpect==4.8.0\r\n",
      "pickleshare==0.7.5\r\n",
      "Pillow==7.1.2\r\n",
      "pkginfo==1.5.0.1\r\n",
      "pluggy==0.13.1\r\n",
      "ply==3.11\r\n",
      "portalocker==2.0.0\r\n",
      "prometheus-client==0.7.1\r\n",
      "promise==2.3\r\n",
      "prompt-toolkit==3.0.4\r\n",
      "protobuf==3.12.4\r\n",
      "psutil==5.7.0\r\n",
      "ptyprocess==0.6.0\r\n",
      "py==1.8.1\r\n",
      "pyasn1==0.4.8\r\n",
      "pyasn1-modules==0.2.8\r\n",
      "pycodestyle==2.5.0\r\n",
      "pycosat==0.6.3\r\n",
      "pycparser==2.20\r\n",
      "pycrypto==2.6.1\r\n",
      "pycurl==7.43.0.5\r\n",
      "pydantic==1.8.1\r\n",
      "pydocstyle==4.0.1\r\n",
      "pyflakes==2.1.1\r\n",
      "pygame==1.9.6\r\n",
      "pyglet==1.5.0\r\n",
      "Pygments==2.6.1\r\n",
      "pylint==2.5.0\r\n",
      "pyodbc===4.0.0-unsupported\r\n",
      "pyOpenSSL==19.1.0\r\n",
      "pyparsing==2.4.7\r\n",
      "pypng==0.0.20\r\n",
      "pyrsistent==0.16.0\r\n",
      "pyscf==1.6.5\r\n",
      "PySocks==1.7.1\r\n",
      "pytest==5.4.1\r\n",
      "pytest-arraydiff==0.3\r\n",
      "pytest-astropy==0.8.0\r\n",
      "pytest-astropy-header==0.1.2\r\n",
      "pytest-doctestplus==0.5.0\r\n",
      "pytest-openfiles==0.5.0\r\n",
      "pytest-remotedata==0.3.2\r\n",
      "python-dateutil==2.8.1\r\n",
      "python-dotenv==0.15.0\r\n",
      "python-jsonrpc-server==0.3.4\r\n",
      "python-language-server==0.31.10\r\n",
      "pytz==2020.1\r\n",
      "PyWavelets==1.1.1\r\n",
      "PyYAML==5.3.1\r\n",
      "pyzmq==18.1.1\r\n",
      "QDarkStyle==2.8.1\r\n",
      "qiskit==0.14.0\r\n",
      "qiskit-aer==0.3.4\r\n",
      "qiskit-aqua==0.6.1\r\n",
      "qiskit-ibmq-provider==0.4.4\r\n",
      "qiskit-ignis==0.2.0\r\n",
      "qiskit-terra==0.11.0\r\n",
      "QtAwesome==0.7.0\r\n",
      "qtconsole==4.7.3\r\n",
      "QtPy==1.9.0\r\n",
      "Quandl==3.4.8\r\n",
      "regex==2020.7.14\r\n",
      "requests==2.23.0\r\n",
      "requests-ntlm==1.1.0\r\n",
      "requests-oauthlib==1.3.0\r\n",
      "rope==0.16.0\r\n",
      "rouge-score==0.0.4\r\n",
      "rsa==4.6\r\n",
      "Rtree==0.9.4\r\n",
      "ruamel-yaml==0.15.87\r\n",
      "sacrebleu==1.4.13\r\n",
      "sacremoses==0.0.43\r\n",
      "scikit-image==0.16.2\r\n",
      "scikit-learn==0.22.1\r\n",
      "scipy==1.4.1\r\n",
      "seaborn==0.10.1\r\n",
      "Send2Trash==1.5.0\r\n",
      "sentencepiece==0.1.91\r\n",
      "simplegeneric==0.8.1\r\n",
      "singledispatch==3.4.0.3\r\n",
      "six==1.14.0\r\n",
      "snowballstemmer==2.0.0\r\n",
      "sortedcollections==1.1.2\r\n",
      "sortedcontainers==2.1.0\r\n",
      "soupsieve==2.0\r\n",
      "sparse==0.11.2\r\n",
      "Sphinx==3.0.3\r\n",
      "sphinxcontrib-applehelp==1.0.2\r\n",
      "sphinxcontrib-devhelp==1.0.2\r\n",
      "sphinxcontrib-htmlhelp==1.0.3\r\n",
      "sphinxcontrib-jsmath==1.0.1\r\n",
      "sphinxcontrib-qthelp==1.0.3\r\n",
      "sphinxcontrib-serializinghtml==1.1.4\r\n",
      "sphinxcontrib-websupport==1.2.1\r\n",
      "spyder==4.1.3\r\n",
      "spyder-kernels==1.9.1\r\n",
      "SQLAlchemy==1.3.16\r\n",
      "sqlparse==0.3.1\r\n",
      "starlette==0.13.6\r\n",
      "statsmodels==0.11.0\r\n",
      "sympy==1.5.1\r\n",
      "t5==0.6.3\r\n",
      "tables==3.6.1\r\n",
      "tblib==1.6.0\r\n",
      "tensor2tensor==1.15.7\r\n",
      "tensorboard==2.3.0\r\n",
      "tensorboard-plugin-wit==1.7.0\r\n",
      "tensorflow==2.3.0\r\n",
      "tensorflow-addons==0.10.0\r\n",
      "tensorflow-datasets==3.2.1\r\n",
      "tensorflow-estimator==2.3.0\r\n",
      "tensorflow-gan==2.0.0\r\n",
      "tensorflow-hub==0.8.0\r\n",
      "tensorflow-metadata==0.22.2\r\n",
      "tensorflow-probability==0.7.0\r\n",
      "tensorflow-text==2.3.0\r\n",
      "termcolor==1.1.0\r\n",
      "terminado==0.8.3\r\n",
      "testpath==0.4.4\r\n",
      "tf-slim==1.1.0\r\n",
      "tfds-nightly==3.2.1.dev202008020105\r\n",
      "tokenizers==0.8.1rc1\r\n",
      "toml==0.10.0\r\n",
      "toolz==0.10.0\r\n",
      "torch==1.7.1\r\n",
      "torchaudio==0.7.0a0+a853dff\r\n",
      "torchvision==0.8.2\r\n",
      "tornado==6.0.4\r\n",
      "tqdm==4.46.0\r\n",
      "traitlets==4.3.3\r\n",
      "transformers==3.0.2\r\n",
      "trax==1.3.4\r\n",
      "typed-ast==1.4.1\r\n",
      "typeguard==2.9.1\r\n",
      "typing-extensions==3.7.4.3\r\n",
      "ujson==1.35\r\n",
      "unicodecsv==0.14.1\r\n",
      "Unidecode==1.1.1\r\n",
      "uritemplate==3.0.1\r\n",
      "urllib3==1.25.8\r\n",
      "uvicorn==0.13.4\r\n",
      "uvloop==0.15.2\r\n",
      "watchdog==0.10.2\r\n",
      "watchgod==0.7\r\n",
      "wcwidth==0.1.9\r\n",
      "webencodings==0.5.1\r\n",
      "websockets==8.1\r\n",
      "Werkzeug==1.0.1\r\n",
      "widgetsnbextension==3.5.1\r\n",
      "wrapt==1.11.2\r\n",
      "wurlitzer==2.0.0\r\n",
      "xlcompose==0.2.4\r\n",
      "xlrd==1.2.0\r\n",
      "XlsxWriter==1.2.8\r\n",
      "xlwings==0.19.0\r\n",
      "xlwt==1.3.0\r\n",
      "xmltodict==0.12.0\r\n",
      "yapf==0.28.0\r\n",
      "zict==2.0.0\r\n",
      "zipp==3.1.0\r\n"
     ]
    }
   ],
   "source": [
    "!pip freeze"
   ]
  },
  {
   "cell_type": "code",
   "execution_count": null,
   "metadata": {},
   "outputs": [],
   "source": []
  },
  {
   "cell_type": "code",
   "execution_count": null,
   "metadata": {},
   "outputs": [],
   "source": []
  }
 ],
 "metadata": {
  "kernelspec": {
   "display_name": "Python 3",
   "language": "python",
   "name": "python3"
  },
  "language_info": {
   "codemirror_mode": {
    "name": "ipython",
    "version": 3
   },
   "file_extension": ".py",
   "mimetype": "text/x-python",
   "name": "python",
   "nbconvert_exporter": "python",
   "pygments_lexer": "ipython3",
   "version": "3.7.7"
  }
 },
 "nbformat": 4,
 "nbformat_minor": 4
}
